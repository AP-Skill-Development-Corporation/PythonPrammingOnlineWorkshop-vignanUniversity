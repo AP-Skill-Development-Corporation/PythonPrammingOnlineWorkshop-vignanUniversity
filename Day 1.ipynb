{
 "cells": [
  {
   "cell_type": "code",
   "execution_count": 1,
   "metadata": {},
   "outputs": [
    {
     "name": "stdout",
     "output_type": "stream",
     "text": [
      "python\n"
     ]
    }
   ],
   "source": [
    "print(\"python\")"
   ]
  },
  {
   "cell_type": "markdown",
   "metadata": {},
   "source": [
    "# Python Programming Workshop\n",
    "## Vignan"
   ]
  },
  {
   "cell_type": "markdown",
   "metadata": {},
   "source": [
    "# Heading 1\n",
    "## Heading 2\n",
    "### Heading 3"
   ]
  },
  {
   "cell_type": "markdown",
   "metadata": {},
   "source": [
    "This is the paragraph"
   ]
  },
  {
   "cell_type": "markdown",
   "metadata": {},
   "source": [
    "*Italic*\n",
    "\n",
    "**bold**\n",
    "\n",
    "***bold and Italic***"
   ]
  },
  {
   "cell_type": "markdown",
   "metadata": {},
   "source": [
    "### Unordered list\n",
    "- list item 1\n",
    "- list item 2\n",
    "- list item 3"
   ]
  },
  {
   "cell_type": "markdown",
   "metadata": {},
   "source": [
    "### Ordered list\n",
    "1. list item 1\n",
    "12020. list item 2\n",
    "10. list item 3"
   ]
  },
  {
   "cell_type": "markdown",
   "metadata": {},
   "source": [
    "### Branches:\n",
    "\n",
    "- EEE\n",
    "- CSE\n",
    "- ECE\n",
    "- CIVIL\n",
    "- MECH"
   ]
  },
  {
   "cell_type": "markdown",
   "metadata": {},
   "source": [
    "![vignan](data:image/jpeg;base64,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)"
   ]
  },
  {
   "cell_type": "markdown",
   "metadata": {},
   "source": [
    "[Reference](https://github.com/AP-Skill-Development-Corporation/PythonPrammingOnlineWorkshop-vignanUniversity)"
   ]
  },
  {
   "cell_type": "markdown",
   "metadata": {},
   "source": [
    "s.no | name | branch\n",
    "--- | --- | ----\n",
    "1 | abc |   eee\n",
    "2 | xyz | cse\n",
    "3 | kamarjaha | eee"
   ]
  },
  {
   "cell_type": "code",
   "execution_count": null,
   "metadata": {},
   "outputs": [],
   "source": []
  }
 ],
 "metadata": {
  "kernelspec": {
   "display_name": "Python 3",
   "language": "python",
   "name": "python3"
  },
  "language_info": {
   "codemirror_mode": {
    "name": "ipython",
    "version": 3
   },
   "file_extension": ".py",
   "mimetype": "text/x-python",
   "name": "python",
   "nbconvert_exporter": "python",
   "pygments_lexer": "ipython3",
   "version": "3.6.8"
  }
 },
 "nbformat": 4,
 "nbformat_minor": 4
}
