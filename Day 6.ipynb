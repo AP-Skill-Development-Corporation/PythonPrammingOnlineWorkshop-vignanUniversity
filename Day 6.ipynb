{
 "cells": [
  {
   "cell_type": "markdown",
   "metadata": {},
   "source": [
    "## Day Objectives:\n",
    "\n",
    "- File Handling\n",
    "- Regular Expressions"
   ]
  },
  {
   "cell_type": "markdown",
   "metadata": {},
   "source": [
    "### File Handling\n",
    "\n",
    "- File : Collection of Data\n",
    "- When compared to other programming languages, file handling in python is easy.\n",
    "\n",
    "### Steps in File Handling\n",
    "\n",
    "- open a file\n",
    "- perform operations\n",
    "- close the file"
   ]
  },
  {
   "cell_type": "markdown",
   "metadata": {},
   "source": [
    "### Open a file\n",
    "\n",
    "- open() -> It is a method used to open files in read or write mode\n",
    "- It accepts two arguments\n",
    "    - filename\n",
    "    - mode (read/write)\n",
    "- syntax : open(filename,mode)"
   ]
  },
  {
   "cell_type": "markdown",
   "metadata": {},
   "source": [
    "### Close a file\n",
    "- close()"
   ]
  },
  {
   "cell_type": "markdown",
   "metadata": {},
   "source": [
    "#### Modes to open a file:\n",
    "\n",
    "- \"x\" - Create mode. To create .txt file\n",
    "- \"r\" - Read mode. To read the data from the file\n",
    "- \"w\" - Write mode. It is used when we want to write data into the file/ we want to modify the file.\n",
    "    - note: Write mode overwrites the data present in the file\n",
    "- \"a\" - Append mode. It is used to append the data to the file. By using append, we can append the new data along with the old data\n",
    "- \"r+\" - Read and Write mode.\n",
    "- \"a+\" - Append and Read Mode.\n",
    "\n",
    "**Note:** By default, the file will be opened in \"r\" mode"
   ]
  },
  {
   "cell_type": "code",
   "execution_count": 19,
   "metadata": {},
   "outputs": [],
   "source": [
    "file = open(\"files/data1.txt\",\"x\")\n",
    "file.close()"
   ]
  },
  {
   "cell_type": "code",
   "execution_count": 20,
   "metadata": {},
   "outputs": [
    {
     "name": "stdout",
     "output_type": "stream",
     "text": [
      "\n"
     ]
    }
   ],
   "source": [
    "f = open(\"files/data1.txt\",\"r\")\n",
    "fr = f.read() # read() -> is a method used to read the data inside the given file\n",
    "print(fr)\n",
    "f.close()"
   ]
  },
  {
   "cell_type": "code",
   "execution_count": 23,
   "metadata": {},
   "outputs": [
    {
     "name": "stdout",
     "output_type": "stream",
     "text": [
      "Python Programming\n"
     ]
    }
   ],
   "source": [
    "f = open(\"files/data1.txt\")\n",
    "fr = f.read()\n",
    "print(fr)\n",
    "f.close()"
   ]
  },
  {
   "cell_type": "code",
   "execution_count": 24,
   "metadata": {},
   "outputs": [],
   "source": [
    "f = open(\"files/data1.txt\", 'w')\n",
    "f.write(\"Today concept is File Handling\")\n",
    "f.close()"
   ]
  },
  {
   "cell_type": "code",
   "execution_count": 27,
   "metadata": {},
   "outputs": [
    {
     "name": "stdout",
     "output_type": "stream",
     "text": [
      "43\n"
     ]
    }
   ],
   "source": [
    "f = open(\"files/data1.txt\",'a')\n",
    "f.write(\"\\nPython Programming Online Workshop - Vignan\")\n",
    "print(fa)"
   ]
  },
  {
   "cell_type": "code",
   "execution_count": 40,
   "metadata": {},
   "outputs": [
    {
     "name": "stdout",
     "output_type": "stream",
     "text": [
      "Today concept is File HandlingPython Programming Online Workshop - VignanPython Programming Online Workshop - Vignan\n",
      "line 2\n",
      "line3\n",
      "line 4\n",
      "line 5\n"
     ]
    }
   ],
   "source": [
    "f = open(\"files/data1.txt\",'r')\n",
    "data = f.read()\n",
    "print(data)\n",
    "f.close()"
   ]
  },
  {
   "cell_type": "code",
   "execution_count": 42,
   "metadata": {},
   "outputs": [
    {
     "name": "stdout",
     "output_type": "stream",
     "text": [
      "['Today concept is File HandlingPython Programming Online Workshop - VignanPython Programming Online Workshop - Vignan\\n', 'line 2\\n', 'line3\\n', 'line 4\\n', 'line 5']\n"
     ]
    }
   ],
   "source": [
    "f = open(\"files/data1.txt\",'r')\n",
    "data1 = f.readlines()\n",
    "print(data1)"
   ]
  },
  {
   "cell_type": "code",
   "execution_count": 44,
   "metadata": {},
   "outputs": [
    {
     "name": "stdout",
     "output_type": "stream",
     "text": [
      "Today concept is File HandlingPython Programming Online Workshop - VignanPython Programming Online Workshop - Vignan\n",
      "\n",
      "line 2\n",
      "\n",
      "line3\n",
      "\n",
      "line 4\n",
      "\n",
      "line 5\n"
     ]
    }
   ],
   "source": [
    "f = open(\"files/data1.txt\",'r')\n",
    "for i in f.readlines():\n",
    "    print(i)"
   ]
  },
  {
   "cell_type": "code",
   "execution_count": 45,
   "metadata": {},
   "outputs": [
    {
     "data": {
      "text/plain": [
       "['Today',\n",
       " 'concept',\n",
       " 'is',\n",
       " 'File',\n",
       " 'HandlingPython',\n",
       " 'Programming',\n",
       " 'Online',\n",
       " 'Workshop',\n",
       " '-',\n",
       " 'VignanPython',\n",
       " 'Programming',\n",
       " 'Online',\n",
       " 'Workshop',\n",
       " '-',\n",
       " 'Vignan',\n",
       " 'line',\n",
       " '2',\n",
       " 'line3',\n",
       " 'line',\n",
       " '4',\n",
       " 'line',\n",
       " '5']"
      ]
     },
     "execution_count": 45,
     "metadata": {},
     "output_type": "execute_result"
    }
   ],
   "source": [
    "f = open(\"files/data1.txt\",'r')\n",
    "data = f.read()\n",
    "data.split()"
   ]
  },
  {
   "cell_type": "code",
   "execution_count": 46,
   "metadata": {},
   "outputs": [
    {
     "name": "stdout",
     "output_type": "stream",
     "text": [
      "The number of lines: 5\n"
     ]
    }
   ],
   "source": [
    "## Write a program to print the number of lines in a file\n",
    "f = open(\"files/data1.txt\",'r')\n",
    "data = f.readlines()\n",
    "print(\"The number of lines:\",len(data))"
   ]
  },
  {
   "cell_type": "code",
   "execution_count": 50,
   "metadata": {},
   "outputs": [
    {
     "name": "stdout",
     "output_type": "stream",
     "text": [
      "['Today', 'concept', 'is', 'File', 'HandlingPython', 'Programming', 'Online', 'Workshop', '-', 'VignanPython', 'Programming', 'Online', 'Workshop', '-', 'Vignan', 'line', '2', 'line3', 'line', '4', 'line', '5']\n",
      "The number of words: 22\n"
     ]
    }
   ],
   "source": [
    "## Write a program to print the number of words in a file\n",
    "f = open(\"files/data1.txt\",'r')\n",
    "data = f.read()\n",
    "words = data.split()\n",
    "print(words)\n",
    "print(\"The number of words:\",len(words))"
   ]
  },
  {
   "cell_type": "code",
   "execution_count": 52,
   "metadata": {},
   "outputs": [
    {
     "name": "stdout",
     "output_type": "stream",
     "text": [
      "['2', '4', '5', '123']\n",
      "Count of Number: 4\n"
     ]
    }
   ],
   "source": [
    "## Write a program to print the number of numerics in a file\n",
    "\n",
    "f = open(\"files/data1.txt\",'r')\n",
    "fr = f.read()\n",
    "words = fr.split()\n",
    "numbers = []\n",
    "for i in words:\n",
    "    if i.isdigit():\n",
    "        numbers.append(i)\n",
    "print(numbers)\n",
    "print(\"Count of Number:\",len(numbers))\n"
   ]
  },
  {
   "cell_type": "markdown",
   "metadata": {},
   "source": [
    "### Regular Expressions\n",
    "- A regular expression is a sequence of characters that match a pattern\n",
    "- Python has built in package to deal with regular expressions\n",
    "    - re ( python package)\n",
    "- re\n",
    "    - we have mainly 3  methods in **re**\n",
    "    - match() - It is used to find the match which occurs at start of the string only\n",
    "    - search() - to search particular pattern in a string\n",
    "    - findall() - To get all the matches\n",
    "- There are different meta characters in re\n",
    "![Meta Characters in Regular Expression](https://www.engineeringbigdata.com/wp-content/uploads/python-regular-expression-regex-metacharacters-meanings.jpg)"
   ]
  },
  {
   "cell_type": "code",
   "execution_count": 53,
   "metadata": {},
   "outputs": [
    {
     "name": "stdout",
     "output_type": "stream",
     "text": [
      "['e', 'e', 'e', 'e', 'd', 'i', 'c', 'a', 'b', 'e', 'g', 'a', 'e', 'i']\n"
     ]
    }
   ],
   "source": [
    "import re\n",
    "data = \"Hello Everyone! Let's discuss about Regular Expressions\"\n",
    "result = re.findall(\"[a-i]\",data)\n",
    "print(result)"
   ]
  },
  {
   "cell_type": "code",
   "execution_count": 55,
   "metadata": {},
   "outputs": [
    {
     "name": "stdout",
     "output_type": "stream",
     "text": [
      "['Hello', 'Hello', 'Hello']\n"
     ]
    }
   ],
   "source": [
    "import re\n",
    "data = \"Hello Everyone! Let's discuss about Regular Expressions.....Hello ...Hello\"\n",
    "result = re.findall(\"Hello\",data)\n",
    "print(result)"
   ]
  },
  {
   "cell_type": "code",
   "execution_count": 59,
   "metadata": {},
   "outputs": [
    {
     "name": "stdout",
     "output_type": "stream",
     "text": [
      "<_sre.SRE_Match object; span=(10, 15), match='Hello'>\n"
     ]
    }
   ],
   "source": [
    "import re\n",
    "data = \"Python....Hello Everyone! Let's discuss about Regular Expressions.....Hello ...Hello\"\n",
    "result = re.search(\"Hello\",data)\n",
    "print(result)"
   ]
  },
  {
   "cell_type": "code",
   "execution_count": 60,
   "metadata": {},
   "outputs": [
    {
     "name": "stdout",
     "output_type": "stream",
     "text": [
      "None\n"
     ]
    }
   ],
   "source": [
    "import re\n",
    "data = \"Python....Hello Everyone! Let's discuss about Regular Expressions.....Hello ...Hello\"\n",
    "result = re.match(\"Hello\",data)\n",
    "print(result)"
   ]
  },
  {
   "cell_type": "code",
   "execution_count": 61,
   "metadata": {},
   "outputs": [
    {
     "name": "stdout",
     "output_type": "stream",
     "text": [
      "<_sre.SRE_Match object; span=(0, 5), match='Hello'>\n"
     ]
    }
   ],
   "source": [
    "import re\n",
    "data = \"Hello Everyone! Let's discuss about Regular Expressions.....Hello ...Hello\"\n",
    "result = re.match(\"Hello\",data)\n",
    "print(result)"
   ]
  },
  {
   "cell_type": "code",
   "execution_count": 66,
   "metadata": {},
   "outputs": [
    {
     "name": "stdout",
     "output_type": "stream",
     "text": [
      "['6']\n"
     ]
    }
   ],
   "source": [
    "import re\n",
    "data = \"Python....Hello Everyone! Let's discuss about Regular Expressions.....Hello.This is Day6\"\n",
    "result = re.findall(\"[0-9]\",data)\n",
    "print(result)"
   ]
  },
  {
   "cell_type": "markdown",
   "metadata": {},
   "source": [
    "### Phone number Validation\n",
    "\n",
    "- The phone number should be start with 6/7/8/9\n",
    "- The length of the phone number should be 10\n",
    "- +91-xxxxxxxxxx"
   ]
  },
  {
   "cell_type": "code",
   "execution_count": 71,
   "metadata": {},
   "outputs": [
    {
     "name": "stdout",
     "output_type": "stream",
     "text": [
      "invalid\n"
     ]
    }
   ],
   "source": [
    "import re\n",
    "number = \"5583456732\"\n",
    "pattern = \"^[6-9][0-9]{9}\"\n",
    "if re.match(pattern,number):\n",
    "    print(\"valid\")\n",
    "else:\n",
    "    print(\"invalid\")"
   ]
  },
  {
   "cell_type": "code",
   "execution_count": 75,
   "metadata": {},
   "outputs": [
    {
     "name": "stdout",
     "output_type": "stream",
     "text": [
      "9876543519\n",
      "valid\n"
     ]
    }
   ],
   "source": [
    "import re\n",
    "number = input()\n",
    "pattern = \"^[6-9][0-9]{9}\"\n",
    "if re.match(pattern,number):\n",
    "    print(\"valid\")\n",
    "else:\n",
    "    print(\"invalid\")"
   ]
  },
  {
   "cell_type": "code",
   "execution_count": 79,
   "metadata": {},
   "outputs": [
    {
     "name": "stdout",
     "output_type": "stream",
     "text": [
      "+91-9876453420\n",
      "valid\n"
     ]
    }
   ],
   "source": [
    "import re\n",
    "number = input()\n",
    "pattern = \"[+][9][1][-][6-9][0-9]{9}\"\n",
    "if re.match(pattern,number):\n",
    "    print(\"valid\")\n",
    "else:\n",
    "    print(\"invalid\")"
   ]
  },
  {
   "cell_type": "code",
   "execution_count": 81,
   "metadata": {},
   "outputs": [
    {
     "name": "stdout",
     "output_type": "stream",
     "text": [
      "+91-9876564657\n",
      "valid\n"
     ]
    }
   ],
   "source": [
    "import re\n",
    "number = input()\n",
    "pattern = \"^[6-9][0-9]{9}|[+][9][1][-][6-9][0-9]{9}\"\n",
    "if re.match(pattern,number):\n",
    "    print(\"valid\")\n",
    "else:\n",
    "    print(\"invalid\")"
   ]
  },
  {
   "cell_type": "markdown",
   "metadata": {},
   "source": [
    "### Gmail ID Validation\n",
    "\n",
    "- First character should be an alphabet([a-z]/[A-Z])\n",
    "- length : 8-30 (it can contains numbers/alphabets/./_\n",
    "- @\n",
    "- gmail\n",
    "- .\n",
    "- com"
   ]
  },
  {
   "cell_type": "code",
   "execution_count": 97,
   "metadata": {},
   "outputs": [
    {
     "name": "stdout",
     "output_type": "stream",
     "text": [
      "apssdc.python@gmail.com\n",
      "Valid maid id\n"
     ]
    }
   ],
   "source": [
    "import re\n",
    "mail_id = input()\n",
    "pattern = \"^[a-zA-Z][a-zA-Z0-9._]{7,35}[@][a-z]{5,10}[.][a-z]{2,5}$\"\n",
    "if re.match(pattern,mail_id):\n",
    "    print(\"Valid maid id\")\n",
    "else:\n",
    "    print(\"invalid mail id\")"
   ]
  },
  {
   "cell_type": "code",
   "execution_count": null,
   "metadata": {},
   "outputs": [],
   "source": []
  }
 ],
 "metadata": {
  "kernelspec": {
   "display_name": "Python 3",
   "language": "python",
   "name": "python3"
  },
  "language_info": {
   "codemirror_mode": {
    "name": "ipython",
    "version": 3
   },
   "file_extension": ".py",
   "mimetype": "text/x-python",
   "name": "python",
   "nbconvert_exporter": "python",
   "pygments_lexer": "ipython3",
   "version": "3.6.8"
  }
 },
 "nbformat": 4,
 "nbformat_minor": 4
}
